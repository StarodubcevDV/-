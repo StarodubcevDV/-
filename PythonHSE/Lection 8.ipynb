{
 "cells": [
  {
   "cell_type": "code",
   "execution_count": 2,
   "metadata": {},
   "outputs": [],
   "source": [
    "import requests"
   ]
  },
  {
   "cell_type": "code",
   "execution_count": 3,
   "metadata": {},
   "outputs": [],
   "source": [
    "r = requests.get(\"http://vyshka.math.ru/\")"
   ]
  },
  {
   "cell_type": "code",
   "execution_count": 4,
   "metadata": {},
   "outputs": [
    {
     "data": {
      "text/plain": [
       "True"
      ]
     },
     "execution_count": 4,
     "metadata": {},
     "output_type": "execute_result"
    }
   ],
   "source": [
    "r.ok"
   ]
  },
  {
   "cell_type": "code",
   "execution_count": 5,
   "metadata": {},
   "outputs": [
    {
     "name": "stdout",
     "output_type": "stream",
     "text": [
      "True\n"
     ]
    }
   ],
   "source": [
    "r = requests.get(\"http://schurov.com/test.html\")\n",
    "print(r.ok)"
   ]
  },
  {
   "cell_type": "code",
   "execution_count": 6,
   "metadata": {},
   "outputs": [],
   "source": [
    "from bs4 import BeautifulSoup"
   ]
  },
  {
   "cell_type": "code",
   "execution_count": 7,
   "metadata": {},
   "outputs": [],
   "source": [
    "page = BeautifulSoup(r.text)"
   ]
  },
  {
   "cell_type": "code",
   "execution_count": 8,
   "metadata": {},
   "outputs": [
    {
     "data": {
      "text/plain": [
       "<html>\n",
       "<head>\n",
       "<title>ÐÑÐ¾Ð²ÐµÑÐºÐ°</title>\n",
       "<!-- CSS file -->\n",
       "<link href=\"https://cdn.jsdelivr.net/qtip2/2.2.1/jquery.qtip.min.css\" rel=\"stylesheet\" type=\"text/css\"/>\n",
       "</head>\n",
       "<body>\n",
       "<p>This is a test: $\\int x^2+y^2$ \\(\\int x^2+y^2\\) \n",
       "    \\[\n",
       "    \\int x^2+y^2\n",
       "    \\]\n",
       "    </p>\n",
       "<a>Hello</a>\n",
       "<a data-url=\"http://schurov.com/include.html\">World</a>\n",
       "<!-- jQuery FIRST i.e. before qTip (and all other scripts too usually) -->\n",
       "<script src=\"https://code.jquery.com/jquery-1.12.0.min.js\"></script>\n",
       "<!-- Include either the minifed or production version, NOT both!! -->\n",
       "<script src=\"https://cdn.jsdelivr.net/qtip2/2.2.1/jquery.qtip.min.js\" type=\"text/javascript\"></script>\n",
       "<script src=\"https://cdn.mathjax.org/mathjax/latest/MathJax.js?config=TeX-AMS-MML_HTMLorMML\"></script>\n",
       "<!-- Optional: imagesLoaded script to better support images inside your tooltips -->\n",
       "<script src=\"https://npmcdn.com/imagesloaded@4.1/imagesloaded.pkgd.min.js\"></script>\n",
       "<script type=\"text/javascript\">\n",
       "$('[data-url]').qtip({\n",
       "    content: {\n",
       "        text: function(event, api) {\n",
       "            $.ajax({\n",
       "                url: api.elements.target.attr('data-url') // Use data-url attribute for the URL\n",
       "            })\n",
       "            .then(function(content) {\n",
       "                // Set the tooltip content upon successful retrieval\n",
       "                api.set('content.text', content);\n",
       "\n",
       "                // Update math\n",
       "                MathJax.Hub.Queue([\"Typeset\",MathJax.Hub]);\n",
       "            }, function(xhr, status, error) {\n",
       "                // Upon failure... set the tooltip content to the status and error value\n",
       "                api.set('content.text', status + ': ' + error);\n",
       "            });\n",
       "\n",
       "            return 'Loading...'; // Set some initial text\n",
       "        }\n",
       "    }\n",
       "});\n",
       "</script>\n",
       "</body>\n",
       "</html>"
      ]
     },
     "execution_count": 8,
     "metadata": {},
     "output_type": "execute_result"
    }
   ],
   "source": [
    "page"
   ]
  },
  {
   "cell_type": "code",
   "execution_count": 10,
   "metadata": {},
   "outputs": [
    {
     "data": {
      "text/plain": [
       "[<a>Hello</a>, <a data-url=\"http://schurov.com/include.html\">World</a>]"
      ]
     },
     "execution_count": 10,
     "metadata": {},
     "output_type": "execute_result"
    }
   ],
   "source": [
    "page(\"a\")"
   ]
  },
  {
   "cell_type": "code",
   "execution_count": 14,
   "metadata": {},
   "outputs": [
    {
     "name": "stdout",
     "output_type": "stream",
     "text": [
      "[]\n",
      "[]\n"
     ]
    }
   ],
   "source": [
    "for link in page(\"a\"):\n",
    "    print(link('url'))"
   ]
  },
  {
   "cell_type": "code",
   "execution_count": null,
   "metadata": {},
   "outputs": [],
   "source": []
  }
 ],
 "metadata": {
  "kernelspec": {
   "display_name": "Python 3",
   "language": "python",
   "name": "python3"
  },
  "language_info": {
   "codemirror_mode": {
    "name": "ipython",
    "version": 3
   },
   "file_extension": ".py",
   "mimetype": "text/x-python",
   "name": "python",
   "nbconvert_exporter": "python",
   "pygments_lexer": "ipython3",
   "version": "3.7.4"
  }
 },
 "nbformat": 4,
 "nbformat_minor": 2
}
