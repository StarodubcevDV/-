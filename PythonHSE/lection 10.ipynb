{
 "cells": [
  {
   "cell_type": "code",
   "execution_count": 1,
   "metadata": {},
   "outputs": [],
   "source": [
    "import requests\n",
    "url = \"https://ru.wikipedia.org/w/api.php\"\n",
    "query = {\n",
    "    'action':'query',\n",
    "    'list':'categorymembers',\n",
    "    'cmtitle':'Категория: Персоналии по алфавиту',\n",
    "    'cmstartsortkeyprefix':'A',\n",
    "    'format':'json',\n",
    "    'cmlimit':10\n",
    "}\n",
    "r = requests.get(url, params = query)"
   ]
  },
  {
   "cell_type": "code",
   "execution_count": 2,
   "metadata": {},
   "outputs": [
    {
     "data": {
      "text/plain": [
       "True"
      ]
     },
     "execution_count": 2,
     "metadata": {},
     "output_type": "execute_result"
    }
   ],
   "source": [
    "r.ok"
   ]
  },
  {
   "cell_type": "code",
   "execution_count": 3,
   "metadata": {},
   "outputs": [
    {
     "data": {
      "text/plain": [
       "'{\"batchcomplete\":\"\",\"continue\":{\"cmcontinue\":\"page|293351050e4b29010a01dcc3dc05|1463676\",\"continue\":\"-||\"},\"query\":{\"categorymembers\":[{\"pageid\":6752602,\"ns\":0,\"title\":\"A Boogie wit da Hoodie\"},{\"pageid\":1409798,\"ns\":0,\"title\":\"A-Trak\"},{\"pageid\":7833814,\"ns\":0,\"title\":\"A(Z)IZA\"},{\"pageid\":8012754,\"ns\":0,\"title\":\"A1one\"},{\"pageid\":2683593,\"ns\":0,\"title\":\"Abbath\"},{\"pageid\":4297071,\"ns\":0,\"title\":\"Active Child\"},{\"pageid\":5656268,\"ns\":0,\"title\":\"Ad-Rock\"},{\"pageid\":357238,\"ns\":0,\"title\":\"Aes Dana (\\\\u043c\\\\u0443\\\\u0437\\\\u044b\\\\u043a\\\\u0430\\\\u043d\\\\u0442)\"},{\"pageid\":2499624,\"ns\":0,\"title\":\"Aesop Rock\"},{\"pageid\":608828,\"ns\":0,\"title\":\"Afrika Bambaataa\"}]}}'"
      ]
     },
     "execution_count": 3,
     "metadata": {},
     "output_type": "execute_result"
    }
   ],
   "source": [
    "r.text"
   ]
  },
  {
   "cell_type": "code",
   "execution_count": 4,
   "metadata": {},
   "outputs": [],
   "source": [
    "q = r.json()"
   ]
  },
  {
   "cell_type": "code",
   "execution_count": 5,
   "metadata": {},
   "outputs": [
    {
     "data": {
      "text/plain": [
       "{'batchcomplete': '',\n",
       " 'continue': {'cmcontinue': 'page|293351050e4b29010a01dcc3dc05|1463676',\n",
       "  'continue': '-||'},\n",
       " 'query': {'categorymembers': [{'pageid': 6752602,\n",
       "    'ns': 0,\n",
       "    'title': 'A Boogie wit da Hoodie'},\n",
       "   {'pageid': 1409798, 'ns': 0, 'title': 'A-Trak'},\n",
       "   {'pageid': 7833814, 'ns': 0, 'title': 'A(Z)IZA'},\n",
       "   {'pageid': 8012754, 'ns': 0, 'title': 'A1one'},\n",
       "   {'pageid': 2683593, 'ns': 0, 'title': 'Abbath'},\n",
       "   {'pageid': 4297071, 'ns': 0, 'title': 'Active Child'},\n",
       "   {'pageid': 5656268, 'ns': 0, 'title': 'Ad-Rock'},\n",
       "   {'pageid': 357238, 'ns': 0, 'title': 'Aes Dana (музыкант)'},\n",
       "   {'pageid': 2499624, 'ns': 0, 'title': 'Aesop Rock'},\n",
       "   {'pageid': 608828, 'ns': 0, 'title': 'Afrika Bambaataa'}]}}"
      ]
     },
     "execution_count": 5,
     "metadata": {},
     "output_type": "execute_result"
    }
   ],
   "source": [
    "q"
   ]
  },
  {
   "cell_type": "code",
   "execution_count": 7,
   "metadata": {},
   "outputs": [
    {
     "data": {
      "text/plain": [
       "[{'pageid': 6752602, 'ns': 0, 'title': 'A Boogie wit da Hoodie'},\n",
       " {'pageid': 1409798, 'ns': 0, 'title': 'A-Trak'},\n",
       " {'pageid': 7833814, 'ns': 0, 'title': 'A(Z)IZA'},\n",
       " {'pageid': 8012754, 'ns': 0, 'title': 'A1one'},\n",
       " {'pageid': 2683593, 'ns': 0, 'title': 'Abbath'},\n",
       " {'pageid': 4297071, 'ns': 0, 'title': 'Active Child'},\n",
       " {'pageid': 5656268, 'ns': 0, 'title': 'Ad-Rock'},\n",
       " {'pageid': 357238, 'ns': 0, 'title': 'Aes Dana (музыкант)'},\n",
       " {'pageid': 2499624, 'ns': 0, 'title': 'Aesop Rock'},\n",
       " {'pageid': 608828, 'ns': 0, 'title': 'Afrika Bambaataa'}]"
      ]
     },
     "execution_count": 7,
     "metadata": {},
     "output_type": "execute_result"
    }
   ],
   "source": [
    "q['query']['categorymembers']"
   ]
  },
  {
   "cell_type": "code",
   "execution_count": null,
   "metadata": {},
   "outputs": [],
   "source": []
  }
 ],
 "metadata": {
  "kernelspec": {
   "display_name": "Python 3",
   "language": "python",
   "name": "python3"
  },
  "language_info": {
   "codemirror_mode": {
    "name": "ipython",
    "version": 3
   },
   "file_extension": ".py",
   "mimetype": "text/x-python",
   "name": "python",
   "nbconvert_exporter": "python",
   "pygments_lexer": "ipython3",
   "version": "3.7.4"
  }
 },
 "nbformat": 4,
 "nbformat_minor": 2
}
